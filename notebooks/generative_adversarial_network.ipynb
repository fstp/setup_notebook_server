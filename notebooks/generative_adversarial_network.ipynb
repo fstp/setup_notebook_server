{
 "cells": [
  {
   "cell_type": "code",
   "execution_count": 1,
   "id": "b80eac02-93ef-4951-a322-ce7f79b8ffc7",
   "metadata": {},
   "outputs": [],
   "source": [
    "import torch\n",
    "import torch.nn as nn\n",
    "import torch.optim as optim\n",
    "import torchvision\n",
    "import torchvision.transforms as transforms\n",
    "from torch.utils.data import DataLoader\n",
    "import matplotlib.pyplot as plt\n",
    "import numpy as np"
   ]
  },
  {
   "cell_type": "code",
   "execution_count": 17,
   "id": "1e4c4d10-300d-4363-9c9c-d432d449106d",
   "metadata": {},
   "outputs": [],
   "source": [
    "# Set device\n",
    "device = torch.device(\"cuda\" if torch.cuda.is_available() else \"cpu\")\n",
    "\n",
    "# Hyperparameters\n",
    "latent_dim = 256\n",
    "img_size = 28 * 28  # MNIST images are 28x28\n",
    "batch_size = 64\n",
    "epochs = 50\n",
    "lr = 0.0002"
   ]
  },
  {
   "cell_type": "code",
   "execution_count": 18,
   "id": "83a4d372-2ef6-4f1b-b668-694841641602",
   "metadata": {},
   "outputs": [],
   "source": [
    "# Generator Network\n",
    "class Generator(nn.Module):\n",
    "    def __init__(self):\n",
    "        super(Generator, self).__init__()\n",
    "        self.model = nn.Sequential(\n",
    "            nn.Linear(latent_dim, 256),\n",
    "            nn.LeakyReLU(0.2),\n",
    "            nn.Linear(256, 512),\n",
    "            nn.LeakyReLU(0.2),\n",
    "            nn.Linear(512, img_size),\n",
    "            nn.Tanh()  # Output between -1 and 1\n",
    "        )\n",
    "    \n",
    "    def forward(self, z):\n",
    "        return self.model(z)"
   ]
  },
  {
   "cell_type": "code",
   "execution_count": 4,
   "id": "44114dd4-9636-4553-b43b-9bcd2bef0310",
   "metadata": {},
   "outputs": [],
   "source": [
    "# Discriminator Network\n",
    "class Discriminator(nn.Module):\n",
    "    def __init__(self):\n",
    "        super(Discriminator, self).__init__()\n",
    "        self.model = nn.Sequential(\n",
    "            nn.Linear(img_size, 512),\n",
    "            nn.LeakyReLU(0.2),\n",
    "            nn.Linear(512, 256),\n",
    "            nn.LeakyReLU(0.2),\n",
    "            nn.Linear(256, 1),\n",
    "            nn.Sigmoid()  # Probability output\n",
    "        )\n",
    "    \n",
    "    def forward(self, img):\n",
    "        return self.model(img)"
   ]
  },
  {
   "cell_type": "code",
   "execution_count": 5,
   "id": "855f0ac6-1bd5-4894-96aa-e5571d5e0251",
   "metadata": {},
   "outputs": [],
   "source": [
    "# Configure data loader\n",
    "transform = transforms.Compose([\n",
    "    transforms.ToTensor(),\n",
    "    transforms.Normalize((0.5,), (0.5,))  # Scale to [-1, 1]\n",
    "])\n",
    "\n",
    "dataset = torchvision.datasets.MNIST(\n",
    "    root=\"./data\", train=True, download=True, transform=transform)\n",
    "dataloader = DataLoader(dataset, batch_size=batch_size, shuffle=True)"
   ]
  },
  {
   "cell_type": "code",
   "execution_count": 6,
   "id": "42777256-6642-4bca-9f67-cf4db2db399f",
   "metadata": {},
   "outputs": [],
   "source": [
    "# Initialize networks\n",
    "generator = Generator().to(device)\n",
    "discriminator = Discriminator().to(device)"
   ]
  },
  {
   "cell_type": "code",
   "execution_count": 7,
   "id": "005321a5-b316-4661-9fb0-a9808075ee09",
   "metadata": {},
   "outputs": [],
   "source": [
    "# Optimizers\n",
    "optimizer_G = optim.Adam(generator.parameters(), lr=lr)\n",
    "optimizer_D = optim.Adam(discriminator.parameters(), lr=lr)\n",
    "\n",
    "# Loss function\n",
    "criterion = nn.BCELoss()"
   ]
  },
  {
   "cell_type": "code",
   "execution_count": 8,
   "id": "d89dfbde-80f6-49ab-8d80-19df35b362ba",
   "metadata": {},
   "outputs": [
    {
     "name": "stdout",
     "output_type": "stream",
     "text": [
      "Epoch [1/50] Loss D: 0.3589, Loss G: 2.1328\n",
      "Epoch [2/50] Loss D: 1.9895, Loss G: 1.4368\n",
      "Epoch [3/50] Loss D: 0.2919, Loss G: 3.1783\n",
      "Epoch [4/50] Loss D: 0.4061, Loss G: 2.4499\n",
      "Epoch [5/50] Loss D: 0.7701, Loss G: 3.2292\n",
      "Epoch [6/50] Loss D: 0.4491, Loss G: 2.5863\n",
      "Epoch [7/50] Loss D: 0.4468, Loss G: 3.6447\n",
      "Epoch [8/50] Loss D: 0.5228, Loss G: 3.0873\n",
      "Epoch [9/50] Loss D: 0.4805, Loss G: 2.8924\n",
      "Epoch [10/50] Loss D: 0.6653, Loss G: 2.0865\n",
      "Epoch [11/50] Loss D: 0.6751, Loss G: 1.8719\n",
      "Epoch [12/50] Loss D: 0.3366, Loss G: 2.9410\n",
      "Epoch [13/50] Loss D: 0.9015, Loss G: 1.9538\n",
      "Epoch [14/50] Loss D: 0.6428, Loss G: 2.4679\n",
      "Epoch [15/50] Loss D: 0.9155, Loss G: 1.4629\n",
      "Epoch [16/50] Loss D: 0.6756, Loss G: 1.8737\n",
      "Epoch [17/50] Loss D: 0.7781, Loss G: 1.3949\n",
      "Epoch [18/50] Loss D: 0.6587, Loss G: 2.5917\n",
      "Epoch [19/50] Loss D: 0.7016, Loss G: 2.6876\n",
      "Epoch [20/50] Loss D: 0.7998, Loss G: 1.6404\n",
      "Epoch [21/50] Loss D: 0.6015, Loss G: 2.6411\n",
      "Epoch [22/50] Loss D: 0.5916, Loss G: 1.8494\n",
      "Epoch [23/50] Loss D: 1.0203, Loss G: 2.1775\n",
      "Epoch [24/50] Loss D: 0.6151, Loss G: 2.2437\n",
      "Epoch [25/50] Loss D: 0.5012, Loss G: 1.3344\n",
      "Epoch [26/50] Loss D: 0.8049, Loss G: 1.8698\n",
      "Epoch [27/50] Loss D: 0.5988, Loss G: 2.0251\n",
      "Epoch [28/50] Loss D: 0.6318, Loss G: 2.2129\n",
      "Epoch [29/50] Loss D: 0.7456, Loss G: 1.7678\n",
      "Epoch [30/50] Loss D: 0.9484, Loss G: 2.1080\n",
      "Epoch [31/50] Loss D: 1.2668, Loss G: 0.9206\n",
      "Epoch [32/50] Loss D: 0.8887, Loss G: 2.6955\n",
      "Epoch [33/50] Loss D: 0.8917, Loss G: 1.8134\n",
      "Epoch [34/50] Loss D: 0.6983, Loss G: 1.8674\n",
      "Epoch [35/50] Loss D: 0.9121, Loss G: 1.6119\n",
      "Epoch [36/50] Loss D: 0.7010, Loss G: 2.1333\n",
      "Epoch [37/50] Loss D: 0.7565, Loss G: 1.5338\n",
      "Epoch [38/50] Loss D: 0.6859, Loss G: 2.0922\n",
      "Epoch [39/50] Loss D: 0.6124, Loss G: 2.1562\n",
      "Epoch [40/50] Loss D: 0.8347, Loss G: 1.8917\n",
      "Epoch [41/50] Loss D: 0.7171, Loss G: 1.8911\n",
      "Epoch [42/50] Loss D: 0.7525, Loss G: 1.5069\n",
      "Epoch [43/50] Loss D: 0.6854, Loss G: 2.0705\n",
      "Epoch [44/50] Loss D: 0.7137, Loss G: 1.6919\n",
      "Epoch [45/50] Loss D: 0.6781, Loss G: 1.5996\n",
      "Epoch [46/50] Loss D: 0.7848, Loss G: 0.9779\n",
      "Epoch [47/50] Loss D: 0.5942, Loss G: 2.1425\n",
      "Epoch [48/50] Loss D: 0.9072, Loss G: 1.4389\n",
      "Epoch [49/50] Loss D: 0.9771, Loss G: 1.3814\n",
      "Epoch [50/50] Loss D: 0.7657, Loss G: 2.0176\n"
     ]
    }
   ],
   "source": [
    "# Training loop\n",
    "for epoch in range(epochs):\n",
    "    for i, (real_imgs, _) in enumerate(dataloader):\n",
    "        # Move data to device\n",
    "        real_imgs = real_imgs.view(-1, img_size).to(device)\n",
    "        batch_size = real_imgs.size(0)\n",
    "        \n",
    "        # Adversarial labels\n",
    "        real_labels = torch.ones(batch_size, 1).to(device)\n",
    "        fake_labels = torch.zeros(batch_size, 1).to(device)\n",
    "        \n",
    "        # ===== Train Discriminator =====\n",
    "        optimizer_D.zero_grad()\n",
    "        \n",
    "        # Real images\n",
    "        outputs_real = discriminator(real_imgs)\n",
    "        loss_real = criterion(outputs_real, real_labels)\n",
    "        \n",
    "        # Fake images\n",
    "        z = torch.randn(batch_size, latent_dim).to(device)\n",
    "        fake_imgs = generator(z)\n",
    "        outputs_fake = discriminator(fake_imgs.detach())  # Detach to avoid training G\n",
    "        loss_fake = criterion(outputs_fake, fake_labels)\n",
    "        \n",
    "        # Total discriminator loss\n",
    "        loss_D = loss_real + loss_fake\n",
    "        loss_D.backward()\n",
    "        optimizer_D.step()\n",
    "        \n",
    "        # ===== Train Generator =====\n",
    "        optimizer_G.zero_grad()\n",
    "        \n",
    "        # Generate new fake images\n",
    "        z = torch.randn(batch_size, latent_dim).to(device)\n",
    "        fake_imgs = generator(z)\n",
    "        \n",
    "        # Try to fool discriminator\n",
    "        outputs = discriminator(fake_imgs)\n",
    "        loss_G = criterion(outputs, real_labels)  # We want fakes to be considered real\n",
    "        \n",
    "        loss_G.backward()\n",
    "        optimizer_G.step()\n",
    "        \n",
    "    # Print progress\n",
    "    print(f\"Epoch [{epoch+1}/{epochs}] Loss D: {loss_D.item():.4f}, Loss G: {loss_G.item():.4f}\")"
   ]
  },
  {
   "cell_type": "code",
   "execution_count": 16,
   "id": "eb953e44-82fb-4537-bbef-03472abe6476",
   "metadata": {},
   "outputs": [
    {
     "data": {
      "image/png": "[encoded data removed]",
      "text/plain": [
       "<Figure size 800x800 with 16 Axes>"
      ]
     },
     "metadata": {},
     "output_type": "display_data"
    }
   ],
   "source": [
    "# Generate sample images\n",
    "with torch.no_grad():\n",
    "    z = torch.randn(16, latent_dim).to(device)\n",
    "    generated = generator(z).cpu().numpy()\n",
    "\n",
    "# Plot generated images\n",
    "fig, axes = plt.subplots(4, 4, figsize=(8,8))\n",
    "for i, ax in enumerate(axes.flatten()):\n",
    "    img = generated[i].reshape(28, 28)\n",
    "    ax.imshow(img, cmap=\"gray\")\n",
    "    ax.axis(\"off\")\n",
    "plt.show()"
   ]
  }
 ],
 "metadata": {
  "kernelspec": {
   "display_name": "venv",
   "language": "python",
   "name": "venv-kernel"
  },
  "language_info": {
   "codemirror_mode": {
    "name": "ipython",
    "version": 3
   },
   "file_extension": ".py",
   "mimetype": "text/x-python",
   "name": "python",
   "nbconvert_exporter": "python",
   "pygments_lexer": "ipython3",
   "version": "3.12.3"
  }
 },
 "nbformat": 4,
 "nbformat_minor": 5
}
