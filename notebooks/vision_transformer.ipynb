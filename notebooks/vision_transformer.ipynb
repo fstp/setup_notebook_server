{
 "cells": [
  {
   "cell_type": "code",
   "execution_count": 1,
   "id": "4a394cca-ce4a-491b-97e6-213569a24138",
   "metadata": {},
   "outputs": [],
   "source": [
    "import os\n",
    "import torch\n",
    "import numpy as np\n",
    "import torch.nn as nn\n",
    "import torch.nn.functional as F\n",
    "import torchvision\n",
    "from tqdm import tqdm\n",
    "from torchvision import transforms\n",
    "from torch.utils.data import DataLoader, Subset\n",
    "from transformers import ViTModel"
   ]
  },
  {
   "cell_type": "code",
   "execution_count": 2,
   "id": "d4cb5f0b-925b-4d34-bc71-631e98fd289f",
   "metadata": {},
   "outputs": [],
   "source": [
    "# Training mode enabled/disabled (if enabled will overwrite current stored model)\n",
    "training = False"
   ]
  },
  {
   "cell_type": "code",
   "execution_count": 3,
   "id": "a304a950-2bc3-480f-b80a-1f1fe5710701",
   "metadata": {},
   "outputs": [],
   "source": [
    "# Set device\n",
    "device = torch.device(\"cuda\" if torch.cuda.is_available() else \"cpu\")"
   ]
  },
  {
   "cell_type": "code",
   "execution_count": 4,
   "id": "94bd4dd2-4585-456b-9f25-061ef34dca16",
   "metadata": {},
   "outputs": [],
   "source": [
    "# Where to store/load the finetuned model\n",
    "model_save_path = \"./models/vit-mnist\""
   ]
  },
  {
   "cell_type": "code",
   "execution_count": 5,
   "id": "22034cb5-9fa1-438b-9ca1-6917e3aabfb0",
   "metadata": {},
   "outputs": [],
   "source": [
    "# Load MNIST dataset\n",
    "transform = transforms.Compose([\n",
    "    transforms.Resize((224, 224)),  # ViT needs minimum 224x224\n",
    "    transforms.ToTensor(),\n",
    "])\n",
    "train_dataset = torchvision.datasets.MNIST(\n",
    "    root='./data', \n",
    "    train=True, \n",
    "    download=True, \n",
    "    transform=transform\n",
    ")\n",
    "train_loader = DataLoader(train_dataset, batch_size=32, shuffle=True)"
   ]
  },
  {
   "cell_type": "code",
   "execution_count": 6,
   "id": "05bbe4f4-9f9d-406a-ad63-066f6826b6cb",
   "metadata": {},
   "outputs": [],
   "source": [
    "# Modified ViT Model Definition\n",
    "class ViTEmbedder(nn.Module):\n",
    "    def __init__(self):\n",
    "        super().__init__()\n",
    "        self.vit = ViTModel.from_pretrained(\"google/vit-base-patch16-224-in21k\")\n",
    "        # Convert grayscale to 3 channels\n",
    "        self.channel_adapter = nn.Conv2d(1, 3, kernel_size=1)  # Better than repeating channels\n",
    "        self.classifier = nn.Linear(768, 10)  # MNIST has 10 classes\n",
    "\n",
    "    def forward(self, x):\n",
    "        # Convert 1-channel to 3-channel\n",
    "        x = self.channel_adapter(x)  # [B, 3, 224, 224]\n",
    "        outputs = self.vit(x)\n",
    "        embeddings = outputs.last_hidden_state[:, 0, :]  # [CLS] token\n",
    "        return self.classifier(embeddings), embeddings"
   ]
  },
  {
   "cell_type": "code",
   "execution_count": 7,
   "id": "b9ee6051-ead0-41e2-b4e9-48d5659d6ab1",
   "metadata": {},
   "outputs": [],
   "source": [
    "def save_model(model: ViTEmbedder):\n",
    "    os.makedirs(model_save_path, exist_ok=True)\n",
    "    model.vit.save_pretrained(model_save_path)\n",
    "    torch.save({\n",
    "        'channel_adapter': model.channel_adapter.state_dict(),\n",
    "        'classifier': model.classifier.state_dict()\n",
    "    }, os.path.join(model_save_path, \"custom_layers.pth\"))"
   ]
  },
  {
   "cell_type": "code",
   "execution_count": 8,
   "id": "a8bf22dc-29cc-4c53-8731-e60d6bf2db6a",
   "metadata": {},
   "outputs": [],
   "source": [
    "def load_model() -> ViTEmbedder:\n",
    "    vit = ViTModel.from_pretrained(model_save_path)\n",
    "    model = ViTEmbedder()\n",
    "    model.vit = vit\n",
    "    custom_layers = torch.load(os.path.join(model_save_path, \"custom_layers.pth\"), map_location=device)\n",
    "    model.channel_adapter.load_state_dict(custom_layers['channel_adapter'])\n",
    "    model.classifier.load_state_dict(custom_layers['classifier'])\n",
    "    model.eval()\n",
    "    return model"
   ]
  },
  {
   "cell_type": "code",
   "execution_count": 9,
   "id": "9927eccc-5804-4772-9453-b54d70fff14b",
   "metadata": {},
   "outputs": [],
   "source": [
    "# Initialize model\n",
    "if training:\n",
    "    model = ViTEmbedder().to(device)\n",
    "    optimizer = torch.optim.Adam(model.parameters(), lr=3e-5)\n",
    "    criterion = nn.CrossEntropyLoss()\n",
    "else:\n",
    "    model = load_model()"
   ]
  },
  {
   "cell_type": "code",
   "execution_count": 10,
   "id": "c0f909ff-2378-448a-9e47-8b58ffc80205",
   "metadata": {},
   "outputs": [],
   "source": [
    "# Training loop\n",
    "if training:\n",
    "    for epoch in range(5):\n",
    "        model.train()\n",
    "        total_loss = 0\n",
    "        \n",
    "        for imgs, labels in train_loader:\n",
    "            imgs = imgs.to(device)\n",
    "            labels = labels.to(device)\n",
    "            \n",
    "            optimizer.zero_grad()\n",
    "            logits, embeddings = model(imgs)\n",
    "            loss = criterion(logits, labels)\n",
    "            \n",
    "            loss.backward()\n",
    "            optimizer.step()\n",
    "            \n",
    "            total_loss += loss.item()\n",
    "        \n",
    "        print(f\"Epoch {epoch+1}, Loss: {total_loss/len(train_loader):.4f}\")"
   ]
  },
  {
   "cell_type": "code",
   "execution_count": 11,
   "id": "c3b80483-7645-4fea-9971-8e1688601704",
   "metadata": {},
   "outputs": [],
   "source": [
    "# Only run this when training/finetuning the model\n",
    "if training:\n",
    "    save_model(model)"
   ]
  },
  {
   "cell_type": "code",
   "execution_count": 12,
   "id": "90ad1d4c-5b1f-4e35-9fb4-d43af9972aae",
   "metadata": {},
   "outputs": [],
   "source": [
    "# Take 5% of the dataset\n",
    "subset_percent = 0.05\n",
    "dataset = train_loader.dataset\n",
    "subset_size = int(len(dataset) * subset_percent)\n",
    "indices = np.random.choice(len(dataset), subset_size, replace=False)\n",
    "\n",
    "subset_loader = torch.utils.data.DataLoader(\n",
    "    Subset(dataset, indices),\n",
    "    batch_size=train_loader.batch_size,\n",
    "    shuffle=False  # Keep False for consistent subsets\n",
    ")"
   ]
  },
  {
   "cell_type": "code",
   "execution_count": 13,
   "id": "cf4f355f-4a36-41bd-b7e4-676b978fd6de",
   "metadata": {},
   "outputs": [],
   "source": [
    "eval_loader = train_loader if training else subset_loader"
   ]
  },
  {
   "cell_type": "code",
   "execution_count": 14,
   "id": "dc4fdde1-601a-4a80-84bc-4213f9d63dec",
   "metadata": {},
   "outputs": [
    {
     "name": "stderr",
     "output_type": "stream",
     "text": [
      "Processing batches: 100%|██████████████████████████████████████████████████████████████████████████████████████████████████████████████████████████████████████████████████████████████████████████████████████████████████████████████████████████████████████████████████████████████████████████████████████████████████| 94/94 [11:07<00:00,  7.10s/it]\n"
     ]
    }
   ],
   "source": [
    "# Collect embeddings\n",
    "all_embeddings = []\n",
    "all_labels = []\n",
    "\n",
    "model.eval()\n",
    "with torch.no_grad():\n",
    "    for imgs, labels in tqdm(eval_loader, desc=\"Processing batches\"):\n",
    "        imgs = imgs.to(device)\n",
    "        _, embeddings = model(imgs)\n",
    "        all_embeddings.append(embeddings.cpu())\n",
    "        all_labels.append(labels)\n",
    "\n",
    "embeddings = torch.cat(all_embeddings).numpy()\n",
    "labels = torch.cat(all_labels).numpy()"
   ]
  },
  {
   "cell_type": "code",
   "execution_count": 15,
   "id": "d5c57c71-8d23-479e-879d-c88c02221362",
   "metadata": {},
   "outputs": [
    {
     "name": "stderr",
     "output_type": "stream",
     "text": [
      "/home/ebljohn/github/setup_notebook_server/venv/lib/python3.10/site-packages/sklearn/utils/deprecation.py:151: FutureWarning: 'force_all_finite' was renamed to 'ensure_all_finite' in 1.6 and will be removed in 1.8.\n",
      "  warnings.warn(\n",
      "/home/ebljohn/github/setup_notebook_server/venv/lib/python3.10/site-packages/umap/umap_.py:1952: UserWarning: n_jobs value 1 overridden to 1 by setting random_state. Use no seed for parallelism.\n",
      "  warn(\n"
     ]
    },
    {
     "data": {
      "image/png": "[encoded data removed]",
      "text/plain": [
       "<Figure size 1200x1000 with 2 Axes>"
      ]
     },
     "metadata": {},
     "output_type": "display_data"
    }
   ],
   "source": [
    "# UMAP projection (same as before)\n",
    "import umap\n",
    "import matplotlib.pyplot as plt\n",
    "\n",
    "reducer = umap.UMAP(\n",
    "    n_components=2,\n",
    "    n_neighbors=20,       # Controls local vs global structure\n",
    "    min_dist=0.1,         # Controls cluster tightness\n",
    "    metric='euclidean',   # Distance metric\n",
    "    random_state=42\n",
    ")\n",
    "emb_2d = reducer.fit_transform(embeddings)\n",
    "\n",
    "plt.figure(figsize=(12, 10))\n",
    "plt.scatter(emb_2d[:,0], emb_2d[:,1], c=labels, cmap='tab10', alpha=0.6)\n",
    "plt.title('Latent Space Visualization with ViT Embeddings (UMAP)')\n",
    "plt.colorbar()\n",
    "plt.show()"
   ]
  },
  {
   "cell_type": "code",
   "execution_count": 64,
   "id": "b7ba87a6-cdab-448a-a53b-db2560b6ab92",
   "metadata": {},
   "outputs": [
    {
     "data": {
      "text/plain": [
       "array([9, 1, 8, 2, 0, 0, 0, 8])"
      ]
     },
     "execution_count": 64,
     "metadata": {},
     "output_type": "execute_result"
    }
   ],
   "source": [
    "labels[:8]"
   ]
  },
  {
   "cell_type": "code",
   "execution_count": 65,
   "id": "77396134-2d27-4d91-bf5e-05b3bb1d75f7",
   "metadata": {},
   "outputs": [
    {
     "data": {
      "text/plain": [
       "768"
      ]
     },
     "execution_count": 65,
     "metadata": {},
     "output_type": "execute_result"
    }
   ],
   "source": [
    "len(embeddings[3])"
   ]
  },
  {
   "cell_type": "code",
   "execution_count": 66,
   "id": "aa75c055-0b50-4900-a438-c7cf2201144f",
   "metadata": {},
   "outputs": [
    {
     "data": {
      "text/plain": [
       "np.int64(2)"
      ]
     },
     "metadata": {},
     "output_type": "display_data"
    },
    {
     "data": {
      "text/plain": [
       "array([ 5.435823, -3.199163], dtype=float32)"
      ]
     },
     "execution_count": 66,
     "metadata": {},
     "output_type": "execute_result"
    }
   ],
   "source": [
    "display(labels[3])\n",
    "emb_2d[3]"
   ]
  },
  {
   "cell_type": "code",
   "execution_count": 67,
   "id": "7a6a31c8-fce8-493c-9420-be11dad04f41",
   "metadata": {},
   "outputs": [
    {
     "data": {
      "text/plain": [
       "np.int64(8)"
      ]
     },
     "metadata": {},
     "output_type": "display_data"
    },
    {
     "data": {
      "text/plain": [
       "array([  0.34042677, -13.092387  ], dtype=float32)"
      ]
     },
     "execution_count": 67,
     "metadata": {},
     "output_type": "execute_result"
    }
   ],
   "source": [
    "display(labels[2])\n",
    "emb_2d[2]"
   ]
  }
 ],
 "metadata": {
  "kernelspec": {
   "display_name": "Python 3 (ipykernel)",
   "language": "python",
   "name": "python3"
  },
  "language_info": {
   "codemirror_mode": {
    "name": "ipython",
    "version": 3
   },
   "file_extension": ".py",
   "mimetype": "text/x-python",
   "name": "python",
   "nbconvert_exporter": "python",
   "pygments_lexer": "ipython3",
   "version": "3.10.12"
  }
 },
 "nbformat": 4,
 "nbformat_minor": 5
}
